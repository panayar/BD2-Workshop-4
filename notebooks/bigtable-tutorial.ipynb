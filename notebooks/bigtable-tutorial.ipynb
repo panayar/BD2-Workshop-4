{
 "cells": [
  {
   "cell_type": "code",
   "execution_count": 3,
   "metadata": {},
   "outputs": [
    {
     "name": "stdout",
     "output_type": "stream",
     "text": [
      "Requirement already satisfied: google-cloud-core in c:\\users\\crist\\anaconda3\\lib\\site-packages (2.2.3)\n",
      "Requirement already satisfied: google-api-core!=2.0.*,!=2.1.*,!=2.2.*,!=2.3.0,<3.0.0dev,>=1.31.5 in c:\\users\\crist\\anaconda3\\lib\\site-packages (from google-cloud-core) (2.7.1)\n",
      "Requirement already satisfied: google-auth<3.0dev,>=1.25.0 in c:\\users\\crist\\anaconda3\\lib\\site-packages (from google-cloud-core) (2.6.3)\n",
      "Requirement already satisfied: googleapis-common-protos<2.0dev,>=1.52.0 in c:\\users\\crist\\anaconda3\\lib\\site-packages (from google-api-core!=2.0.*,!=2.1.*,!=2.2.*,!=2.3.0,<3.0.0dev,>=1.31.5->google-cloud-core) (1.56.0)\n",
      "Requirement already satisfied: requests<3.0.0dev,>=2.18.0 in c:\\users\\crist\\anaconda3\\lib\\site-packages (from google-api-core!=2.0.*,!=2.1.*,!=2.2.*,!=2.3.0,<3.0.0dev,>=1.31.5->google-cloud-core) (2.26.0)\n",
      "Requirement already satisfied: protobuf>=3.12.0 in c:\\users\\crist\\anaconda3\\lib\\site-packages (from google-api-core!=2.0.*,!=2.1.*,!=2.2.*,!=2.3.0,<3.0.0dev,>=1.31.5->google-cloud-core) (3.20.0)\n",
      "Requirement already satisfied: cachetools<6.0,>=2.0.0 in c:\\users\\crist\\anaconda3\\lib\\site-packages (from google-auth<3.0dev,>=1.25.0->google-cloud-core) (5.0.0)\n",
      "Requirement already satisfied: six>=1.9.0 in c:\\users\\crist\\anaconda3\\lib\\site-packages (from google-auth<3.0dev,>=1.25.0->google-cloud-core) (1.16.0)\n",
      "Requirement already satisfied: pyasn1-modules>=0.2.1 in c:\\users\\crist\\anaconda3\\lib\\site-packages (from google-auth<3.0dev,>=1.25.0->google-cloud-core) (0.2.8)\n",
      "Requirement already satisfied: rsa<5,>=3.1.4 in c:\\users\\crist\\anaconda3\\lib\\site-packages (from google-auth<3.0dev,>=1.25.0->google-cloud-core) (4.8)\n",
      "Requirement already satisfied: pyasn1<0.5.0,>=0.4.6 in c:\\users\\crist\\anaconda3\\lib\\site-packages (from pyasn1-modules>=0.2.1->google-auth<3.0dev,>=1.25.0->google-cloud-core) (0.4.8)\n",
      "Requirement already satisfied: certifi>=2017.4.17 in c:\\users\\crist\\anaconda3\\lib\\site-packages (from requests<3.0.0dev,>=2.18.0->google-api-core!=2.0.*,!=2.1.*,!=2.2.*,!=2.3.0,<3.0.0dev,>=1.31.5->google-cloud-core) (2021.10.8)\n",
      "Requirement already satisfied: idna<4,>=2.5 in c:\\users\\crist\\anaconda3\\lib\\site-packages (from requests<3.0.0dev,>=2.18.0->google-api-core!=2.0.*,!=2.1.*,!=2.2.*,!=2.3.0,<3.0.0dev,>=1.31.5->google-cloud-core) (3.2)\n",
      "Requirement already satisfied: urllib3<1.27,>=1.21.1 in c:\\users\\crist\\anaconda3\\lib\\site-packages (from requests<3.0.0dev,>=2.18.0->google-api-core!=2.0.*,!=2.1.*,!=2.2.*,!=2.3.0,<3.0.0dev,>=1.31.5->google-cloud-core) (1.26.7)\n",
      "Requirement already satisfied: charset-normalizer~=2.0.0 in c:\\users\\crist\\anaconda3\\lib\\site-packages (from requests<3.0.0dev,>=2.18.0->google-api-core!=2.0.*,!=2.1.*,!=2.2.*,!=2.3.0,<3.0.0dev,>=1.31.5->google-cloud-core) (2.0.4)\n",
      "Requirement already satisfied: google-cloud-bigtable in c:\\users\\crist\\anaconda3\\lib\\site-packages (2.8.1)\n",
      "Requirement already satisfied: proto-plus>=1.18.0 in c:\\users\\crist\\anaconda3\\lib\\site-packages (from google-cloud-bigtable) (1.20.3)\n",
      "Requirement already satisfied: google-cloud-core<3.0.0dev,>=1.4.1 in c:\\users\\crist\\anaconda3\\lib\\site-packages (from google-cloud-bigtable) (2.2.3)\n",
      "Requirement already satisfied: grpc-google-iam-v1<0.13dev,>=0.12.3 in c:\\users\\crist\\anaconda3\\lib\\site-packages (from google-cloud-bigtable) (0.12.4)\n",
      "Requirement already satisfied: google-api-core[grpc]!=2.0.*,!=2.1.*,!=2.2.*,!=2.3.0,<3.0.0dev,>=1.31.5 in c:\\users\\crist\\anaconda3\\lib\\site-packages (from google-cloud-bigtable) (2.7.1)\n",
      "Requirement already satisfied: googleapis-common-protos<2.0dev,>=1.52.0 in c:\\users\\crist\\anaconda3\\lib\\site-packages (from google-api-core[grpc]!=2.0.*,!=2.1.*,!=2.2.*,!=2.3.0,<3.0.0dev,>=1.31.5->google-cloud-bigtable) (1.56.0)\n",
      "Requirement already satisfied: google-auth<3.0dev,>=1.25.0 in c:\\users\\crist\\anaconda3\\lib\\site-packages (from google-api-core[grpc]!=2.0.*,!=2.1.*,!=2.2.*,!=2.3.0,<3.0.0dev,>=1.31.5->google-cloud-bigtable) (2.6.3)\n",
      "Requirement already satisfied: requests<3.0.0dev,>=2.18.0 in c:\\users\\crist\\anaconda3\\lib\\site-packages (from google-api-core[grpc]!=2.0.*,!=2.1.*,!=2.2.*,!=2.3.0,<3.0.0dev,>=1.31.5->google-cloud-bigtable) (2.26.0)\n",
      "Requirement already satisfied: protobuf>=3.12.0 in c:\\users\\crist\\anaconda3\\lib\\site-packages (from google-api-core[grpc]!=2.0.*,!=2.1.*,!=2.2.*,!=2.3.0,<3.0.0dev,>=1.31.5->google-cloud-bigtable) (3.20.0)\n",
      "Requirement already satisfied: grpcio<2.0dev,>=1.33.2 in c:\\users\\crist\\anaconda3\\lib\\site-packages (from google-api-core[grpc]!=2.0.*,!=2.1.*,!=2.2.*,!=2.3.0,<3.0.0dev,>=1.31.5->google-cloud-bigtable) (1.44.0)\n",
      "Requirement already satisfied: grpcio-status<2.0dev,>=1.33.2 in c:\\users\\crist\\anaconda3\\lib\\site-packages (from google-api-core[grpc]!=2.0.*,!=2.1.*,!=2.2.*,!=2.3.0,<3.0.0dev,>=1.31.5->google-cloud-bigtable) (1.44.0)\n",
      "Requirement already satisfied: cachetools<6.0,>=2.0.0 in c:\\users\\crist\\anaconda3\\lib\\site-packages (from google-auth<3.0dev,>=1.25.0->google-api-core[grpc]!=2.0.*,!=2.1.*,!=2.2.*,!=2.3.0,<3.0.0dev,>=1.31.5->google-cloud-bigtable) (5.0.0)\n",
      "Requirement already satisfied: six>=1.9.0 in c:\\users\\crist\\anaconda3\\lib\\site-packages (from google-auth<3.0dev,>=1.25.0->google-api-core[grpc]!=2.0.*,!=2.1.*,!=2.2.*,!=2.3.0,<3.0.0dev,>=1.31.5->google-cloud-bigtable) (1.16.0)\n",
      "Requirement already satisfied: pyasn1-modules>=0.2.1 in c:\\users\\crist\\anaconda3\\lib\\site-packages (from google-auth<3.0dev,>=1.25.0->google-api-core[grpc]!=2.0.*,!=2.1.*,!=2.2.*,!=2.3.0,<3.0.0dev,>=1.31.5->google-cloud-bigtable) (0.2.8)\n",
      "Requirement already satisfied: rsa<5,>=3.1.4 in c:\\users\\crist\\anaconda3\\lib\\site-packages (from google-auth<3.0dev,>=1.25.0->google-api-core[grpc]!=2.0.*,!=2.1.*,!=2.2.*,!=2.3.0,<3.0.0dev,>=1.31.5->google-cloud-bigtable) (4.8)\n",
      "Requirement already satisfied: pyasn1<0.5.0,>=0.4.6 in c:\\users\\crist\\anaconda3\\lib\\site-packages (from pyasn1-modules>=0.2.1->google-auth<3.0dev,>=1.25.0->google-api-core[grpc]!=2.0.*,!=2.1.*,!=2.2.*,!=2.3.0,<3.0.0dev,>=1.31.5->google-cloud-bigtable) (0.4.8)\n",
      "Requirement already satisfied: charset-normalizer~=2.0.0 in c:\\users\\crist\\anaconda3\\lib\\site-packages (from requests<3.0.0dev,>=2.18.0->google-api-core[grpc]!=2.0.*,!=2.1.*,!=2.2.*,!=2.3.0,<3.0.0dev,>=1.31.5->google-cloud-bigtable) (2.0.4)\n",
      "Requirement already satisfied: certifi>=2017.4.17 in c:\\users\\crist\\anaconda3\\lib\\site-packages (from requests<3.0.0dev,>=2.18.0->google-api-core[grpc]!=2.0.*,!=2.1.*,!=2.2.*,!=2.3.0,<3.0.0dev,>=1.31.5->google-cloud-bigtable) (2021.10.8)\n",
      "Requirement already satisfied: urllib3<1.27,>=1.21.1 in c:\\users\\crist\\anaconda3\\lib\\site-packages (from requests<3.0.0dev,>=2.18.0->google-api-core[grpc]!=2.0.*,!=2.1.*,!=2.2.*,!=2.3.0,<3.0.0dev,>=1.31.5->google-cloud-bigtable) (1.26.7)\n",
      "Requirement already satisfied: idna<4,>=2.5 in c:\\users\\crist\\anaconda3\\lib\\site-packages (from requests<3.0.0dev,>=2.18.0->google-api-core[grpc]!=2.0.*,!=2.1.*,!=2.2.*,!=2.3.0,<3.0.0dev,>=1.31.5->google-cloud-bigtable) (3.2)\n"
     ]
    }
   ],
   "source": [
    "!pip install google-cloud-core\n",
    "!pip install google-cloud-bigtable"
   ]
  },
  {
   "cell_type": "code",
   "execution_count": 4,
   "metadata": {},
   "outputs": [],
   "source": [
    "import time\n",
    "from datetime import datetime as dt\n",
    "\n",
    "from google.cloud import bigtable\n",
    "from google.cloud.bigtable import column_family, row_filters"
   ]
  },
  {
   "cell_type": "code",
   "execution_count": 5,
   "metadata": {},
   "outputs": [],
   "source": [
    "INSTANCE_ID = 'bigtable-1'\n",
    "TABLE_ID = 'orders_{}'.format(time.time())"
   ]
  },
  {
   "cell_type": "code",
   "execution_count": 9,
   "metadata": {},
   "outputs": [
    {
     "data": {
      "text/plain": [
       "'orders_1649623592.2224536'"
      ]
     },
     "execution_count": 9,
     "metadata": {},
     "output_type": "execute_result"
    }
   ],
   "source": [
    "TABLE_ID"
   ]
  },
  {
   "cell_type": "markdown",
   "metadata": {},
   "source": [
    "### Utils functions"
   ]
  },
  {
   "cell_type": "code",
   "execution_count": 10,
   "metadata": {},
   "outputs": [],
   "source": [
    "def print_row(row):\n",
    "    print(\"Reading data for {}:\".format(row.row_key.decode('utf-8')))\n",
    "    for cf, cols in sorted(row.cells.items()):\n",
    "        print(\"Column Family {}\".format(cf))\n",
    "        for col, cells in sorted(cols.items()):\n",
    "            for cell in cells:\n",
    "                labels = \" [{}]\".format(\",\".join(cell.labels)) \\\n",
    "                    if len(cell.labels) else \"\"\n",
    "                print(\n",
    "                    \"\\t{}: {} @{}{}\".format(col.decode('utf-8'),\n",
    "                                            cell.value.decode('utf-8'),\n",
    "                                            cell.timestamp, labels))\n",
    "    print(\"\")"
   ]
  },
  {
   "cell_type": "markdown",
   "metadata": {},
   "source": [
    "### Connecting to BigTable"
   ]
  },
  {
   "cell_type": "code",
   "execution_count": 11,
   "metadata": {},
   "outputs": [],
   "source": [
    "client = bigtable.Client.from_service_account_json('./json/unbosque-service-account.json', admin = True)"
   ]
  },
  {
   "cell_type": "code",
   "execution_count": 12,
   "metadata": {},
   "outputs": [
    {
     "name": "stdout",
     "output_type": "stream",
     "text": [
      "Connecting to database instance\n"
     ]
    }
   ],
   "source": [
    "print('Connecting to database instance')\n",
    "instance = client.instance(INSTANCE_ID)"
   ]
  },
  {
   "cell_type": "markdown",
   "metadata": {},
   "source": [
    "### Creating a table"
   ]
  },
  {
   "cell_type": "code",
   "execution_count": 13,
   "metadata": {},
   "outputs": [
    {
     "name": "stdout",
     "output_type": "stream",
     "text": [
      "Creating the orders_1649623592.2224536 table\n"
     ]
    }
   ],
   "source": [
    "print('Creating the {} table'.format(TABLE_ID))\n",
    "table = instance.table(TABLE_ID)\n",
    "\n",
    "if not table.exists():\n",
    "    table.create()\n",
    "else:\n",
    "    print(\"ERROR: Table {} already exists\".format(TABLE_ID))"
   ]
  },
  {
   "cell_type": "code",
   "execution_count": 14,
   "metadata": {},
   "outputs": [
    {
     "name": "stdout",
     "output_type": "stream",
     "text": [
      "Creating all family columns\n"
     ]
    }
   ],
   "source": [
    "print('Creating all family columns')\n",
    "\n",
    "customer_cfId = 'customer'\n",
    "customer_cf = table.column_family(customer_cfId)\n",
    "customer_cf.create()\n",
    "\n",
    "items_cfId = 'items'\n",
    "items_cf = table.column_family(items_cfId)\n",
    "items_cf.create()\n",
    "\n",
    "delivery_cfId = 'delivery'\n",
    "delivery_cf = table.column_family(delivery_cfId)\n",
    "delivery_cf.create()"
   ]
  },
  {
   "cell_type": "markdown",
   "metadata": {},
   "source": [
    "### Inserting data"
   ]
  },
  {
   "cell_type": "code",
   "execution_count": 17,
   "metadata": {},
   "outputs": [],
   "source": [
    "orders = [\n",
    "    {\n",
    "        'orderId': '2497',\n",
    "        'customer': {\n",
    "            'firstName': 'Fabian',\n",
    "            'lastName': 'Penia',\n",
    "            'customerId': '101'\n",
    "        },\n",
    "        'items': [\n",
    "            {\n",
    "                'productId': '3301',\n",
    "                'quantity': '5',\n",
    "                'unitPrice': '12000'\n",
    "            },\n",
    "            {\n",
    "                'productId': '3302',\n",
    "                'quantity': '1',\n",
    "                'unitPrice': '18000'\n",
    "            },\n",
    "            {\n",
    "                'productId': '3303',\n",
    "                'quantity': '2',\n",
    "                'unitPrice': '25000'\n",
    "            }\n",
    "        ],\n",
    "        'delivery': {\n",
    "            'addressLine1': 'Fake Street 123',\n",
    "            'addressLine2': 'House 10',\n",
    "            'city': 'Springfield',\n",
    "            'country': 'US'\n",
    "        }\n",
    "    },\n",
    "    {\n",
    "        'orderId': '2498',\n",
    "        'customer': {\n",
    "            'firstName': 'Pepito',\n",
    "            'lastName': 'Perez',\n",
    "            'customerId': '102'\n",
    "        },\n",
    "        'items': [\n",
    "            {\n",
    "                'productId': '3301',\n",
    "                'quantity': '1',\n",
    "                'unitPrice': '12000'\n",
    "            },\n",
    "            {\n",
    "                'productId': '3306',\n",
    "                'quantity': '3',\n",
    "                'unitPrice': '20000'\n",
    "            }\n",
    "        ],\n",
    "        'delivery': {\n",
    "            'addressLine1': '742 Evergreen Terrace',\n",
    "            'city': 'Springfield',\n",
    "            'country': 'US'\n",
    "        }\n",
    "    }\n",
    "]"
   ]
  },
  {
   "cell_type": "code",
   "execution_count": 18,
   "metadata": {},
   "outputs": [
    {
     "name": "stdout",
     "output_type": "stream",
     "text": [
      "Writing orders to the table\n"
     ]
    },
    {
     "data": {
      "text/plain": [
       "[, ]"
      ]
     },
     "execution_count": 18,
     "metadata": {},
     "output_type": "execute_result"
    }
   ],
   "source": [
    "dt = dt.utcnow()\n",
    "rows = []\n",
    "\n",
    "print('Writing orders to the table')\n",
    "for order in orders:\n",
    "    \n",
    "    row_key = 'order#{}'.format(order['orderId']).encode()\n",
    "    row = table.direct_row(row_key)\n",
    "    \n",
    "    row.set_cell(customer_cfId, 'firstName'.encode(), order['customer']['firstName'], timestamp = dt)\n",
    "    row.set_cell(customer_cfId, 'lastName'.encode(), order['customer']['lastName'], timestamp = dt)\n",
    "    row.set_cell(customer_cfId, 'customerId'.encode(), order['customer']['customerId'], timestamp = dt)\n",
    "    \n",
    "    for item in order['items']:\n",
    "        row.set_cell(items_cfId, 'product#{}'.format(item['productId']).encode(), (item['quantity'] + ':' + item['unitPrice']), timestamp = dt)\n",
    "    \n",
    "    row.set_cell(delivery_cfId, 'addressLine1'.encode(), order['delivery']['addressLine1'], timestamp = dt)\n",
    "    try:\n",
    "        row.set_cell(delivery_cfId, 'addressLine2'.encode(), order['delivery']['addressLine2'], timestamp = dt)\n",
    "    except KeyError:\n",
    "        pass\n",
    "    row.set_cell(delivery_cfId, 'city'.encode(), order['delivery']['city'], timestamp = dt)\n",
    "    row.set_cell(delivery_cfId, 'country'.encode(), order['delivery']['country'], timestamp = dt)\n",
    "    \n",
    "    rows.append(row)\n",
    "\n",
    "table.mutate_rows(rows)"
   ]
  },
  {
   "cell_type": "markdown",
   "metadata": {},
   "source": [
    "### Reading data"
   ]
  },
  {
   "cell_type": "code",
   "execution_count": 19,
   "metadata": {},
   "outputs": [
    {
     "name": "stdout",
     "output_type": "stream",
     "text": [
      "Getting a single order by row key\n",
      "Reading data for order#2497:\n",
      "Column Family customer\n",
      "\tcustomerId: 101 @2022-04-09 01:32:24.891000+00:00\n",
      "\tfirstName: Fabian @2022-04-09 01:32:24.891000+00:00\n",
      "\tlastName: Penia @2022-04-09 01:32:24.891000+00:00\n",
      "Column Family delivery\n",
      "\taddressLine1: Fake Street 123 @2022-04-09 01:32:24.891000+00:00\n",
      "\taddressLine2: House 10 @2022-04-09 01:32:24.891000+00:00\n",
      "\tcity: Springfield @2022-04-09 01:32:24.891000+00:00\n",
      "\tcountry: US @2022-04-09 01:32:24.891000+00:00\n",
      "Column Family items\n",
      "\tproduct#3301: 5:12000 @2022-04-09 01:32:24.891000+00:00\n",
      "\tproduct#3302: 1:18000 @2022-04-09 01:32:24.891000+00:00\n",
      "\tproduct#3303: 2:25000 @2022-04-09 01:32:24.891000+00:00\n",
      "\n"
     ]
    }
   ],
   "source": [
    "print('Getting a single order by row key')\n",
    "key = 'order#2497'.encode()\n",
    "\n",
    "row = table.read_row(key)\n",
    "print_row(row)"
   ]
  },
  {
   "cell_type": "code",
   "execution_count": 20,
   "metadata": {},
   "outputs": [
    {
     "name": "stdout",
     "output_type": "stream",
     "text": [
      "Getting a specific product item by row key\n",
      "Reading data for order#2497:\n",
      "Column Family items\n",
      "\tproduct#3302: 1:18000 @2022-04-09 01:32:24.891000+00:00\n",
      "\n"
     ]
    }
   ],
   "source": [
    "print('Getting a specific product item by row key')\n",
    "key = 'order#2497'.encode()\n",
    "\n",
    "col_filter = row_filters.ColumnQualifierRegexFilter('product#3302'.encode())\n",
    "\n",
    "row = table.read_row(key, filter_ = col_filter)\n",
    "print_row(row)"
   ]
  },
  {
   "cell_type": "code",
   "execution_count": 21,
   "metadata": {},
   "outputs": [
    {
     "name": "stdout",
     "output_type": "stream",
     "text": [
      "Getting all orders\n",
      "Reading data for order#2497:\n",
      "Column Family customer\n",
      "\tcustomerId: 101 @2022-04-09 01:32:24.891000+00:00\n",
      "\tfirstName: Fabian @2022-04-09 01:32:24.891000+00:00\n",
      "\tlastName: Penia @2022-04-09 01:32:24.891000+00:00\n",
      "Column Family delivery\n",
      "\taddressLine1: Fake Street 123 @2022-04-09 01:32:24.891000+00:00\n",
      "\taddressLine2: House 10 @2022-04-09 01:32:24.891000+00:00\n",
      "\tcity: Springfield @2022-04-09 01:32:24.891000+00:00\n",
      "\tcountry: US @2022-04-09 01:32:24.891000+00:00\n",
      "Column Family items\n",
      "\tproduct#3301: 5:12000 @2022-04-09 01:32:24.891000+00:00\n",
      "\tproduct#3302: 1:18000 @2022-04-09 01:32:24.891000+00:00\n",
      "\tproduct#3303: 2:25000 @2022-04-09 01:32:24.891000+00:00\n",
      "\n",
      "Reading data for order#2498:\n",
      "Column Family customer\n",
      "\tcustomerId: 102 @2022-04-09 01:32:24.891000+00:00\n",
      "\tfirstName: Pepito @2022-04-09 01:32:24.891000+00:00\n",
      "\tlastName: Perez @2022-04-09 01:32:24.891000+00:00\n",
      "Column Family delivery\n",
      "\taddressLine1: 742 Evergreen Terrace @2022-04-09 01:32:24.891000+00:00\n",
      "\tcity: Springfield @2022-04-09 01:32:24.891000+00:00\n",
      "\tcountry: US @2022-04-09 01:32:24.891000+00:00\n",
      "Column Family items\n",
      "\tproduct#3301: 1:12000 @2022-04-09 01:32:24.891000+00:00\n",
      "\tproduct#3306: 3:20000 @2022-04-09 01:32:24.891000+00:00\n",
      "\n"
     ]
    }
   ],
   "source": [
    "print('Getting all orders')\n",
    "\n",
    "rows = table.read_rows()\n",
    "for row in rows:\n",
    "    print_row(row)"
   ]
  },
  {
   "cell_type": "code",
   "execution_count": 22,
   "metadata": {},
   "outputs": [
    {
     "name": "stdout",
     "output_type": "stream",
     "text": [
      "Getting a specific column for all orders\n",
      "Reading data for order#2497:\n",
      "Column Family items\n",
      "\tproduct#3302: 1:18000 @2022-04-09 01:32:24.891000+00:00\n",
      "\n"
     ]
    }
   ],
   "source": [
    "print('Getting a specific column for all orders')\n",
    "\n",
    "col_filter = row_filters.ColumnQualifierRegexFilter('product#3302'.encode())\n",
    "\n",
    "rows = table.read_rows(filter_ = col_filter)\n",
    "for row in rows:\n",
    "    print_row(row)"
   ]
  },
  {
   "cell_type": "markdown",
   "metadata": {},
   "source": [
    "### Deleting a row"
   ]
  },
  {
   "cell_type": "code",
   "execution_count": 23,
   "metadata": {},
   "outputs": [
    {
     "name": "stdout",
     "output_type": "stream",
     "text": [
      "Deleting a row by key\n"
     ]
    },
    {
     "data": {
      "text/plain": []
     },
     "execution_count": 23,
     "metadata": {},
     "output_type": "execute_result"
    }
   ],
   "source": [
    "print('Deleting a row by key')\n",
    "key = 'order#2498'.encode()\n",
    "\n",
    "row = table.direct_row(row_key)\n",
    "row.delete()\n",
    "row.commit()"
   ]
  },
  {
   "cell_type": "code",
   "execution_count": 24,
   "metadata": {},
   "outputs": [
    {
     "name": "stdout",
     "output_type": "stream",
     "text": [
      "Getting all orders\n",
      "Reading data for order#2497:\n",
      "Column Family customer\n",
      "\tcustomerId: 101 @2022-04-09 01:32:24.891000+00:00\n",
      "\tfirstName: Fabian @2022-04-09 01:32:24.891000+00:00\n",
      "\tlastName: Penia @2022-04-09 01:32:24.891000+00:00\n",
      "Column Family delivery\n",
      "\taddressLine1: Fake Street 123 @2022-04-09 01:32:24.891000+00:00\n",
      "\taddressLine2: House 10 @2022-04-09 01:32:24.891000+00:00\n",
      "\tcity: Springfield @2022-04-09 01:32:24.891000+00:00\n",
      "\tcountry: US @2022-04-09 01:32:24.891000+00:00\n",
      "Column Family items\n",
      "\tproduct#3301: 5:12000 @2022-04-09 01:32:24.891000+00:00\n",
      "\tproduct#3302: 1:18000 @2022-04-09 01:32:24.891000+00:00\n",
      "\tproduct#3303: 2:25000 @2022-04-09 01:32:24.891000+00:00\n",
      "\n"
     ]
    }
   ],
   "source": [
    "print('Getting all orders')\n",
    "\n",
    "rows = table.read_rows()\n",
    "for row in rows:\n",
    "    print_row(row)"
   ]
  },
  {
   "cell_type": "markdown",
   "metadata": {},
   "source": [
    "### Deleting table"
   ]
  },
  {
   "cell_type": "code",
   "execution_count": null,
   "metadata": {},
   "outputs": [],
   "source": [
    "print('Deleting the {} table.'.format(TABLE_ID))\n",
    "table.delete()"
   ]
  },
  {
   "cell_type": "code",
   "execution_count": 25,
   "metadata": {},
   "outputs": [
    {
     "data": {
      "text/plain": [
       "' Cree el conjunto de instrucciones necesarias para cargar a Python e insertar en BigTable todos los registros contenidos en los archivos'"
      ]
     },
     "execution_count": 25,
     "metadata": {},
     "output_type": "execute_result"
    }
   ],
   "source": [
    "\n"
   ]
  }
 ],
 "metadata": {
  "kernelspec": {
   "display_name": "Python 3",
   "language": "python",
   "name": "python3"
  },
  "language_info": {
   "codemirror_mode": {
    "name": "ipython",
    "version": 3
   },
   "file_extension": ".py",
   "mimetype": "text/x-python",
   "name": "python",
   "nbconvert_exporter": "python",
   "pygments_lexer": "ipython3",
   "version": "3.9.7"
  }
 },
 "nbformat": 4,
 "nbformat_minor": 4
}
